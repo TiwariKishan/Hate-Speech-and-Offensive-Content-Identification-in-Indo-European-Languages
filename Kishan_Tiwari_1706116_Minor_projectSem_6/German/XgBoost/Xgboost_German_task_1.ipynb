{
  "nbformat": 4,
  "nbformat_minor": 0,
  "metadata": {
    "colab": {
      "name": "Xgboost_German_task_1.ipynb",
      "provenance": []
    },
    "kernelspec": {
      "name": "python3",
      "display_name": "Python 3"
    }
  },
  "cells": [
    {
      "cell_type": "code",
      "metadata": {
        "id": "SrnIHGMfyLDs",
        "colab_type": "code",
        "colab": {
          "base_uri": "https://localhost:8080/",
          "height": 34
        },
        "outputId": "0702d06e-49c2-42c6-fada-30e29c26bb51"
      },
      "source": [
        "from google.colab import drive\n",
        "drive.mount('/content/drive')"
      ],
      "execution_count": 17,
      "outputs": [
        {
          "output_type": "stream",
          "text": [
            "Drive already mounted at /content/drive; to attempt to forcibly remount, call drive.mount(\"/content/drive\", force_remount=True).\n"
          ],
          "name": "stdout"
        }
      ]
    },
    {
      "cell_type": "code",
      "metadata": {
        "id": "F8bwH5T0yQv_",
        "colab_type": "code",
        "colab": {}
      },
      "source": [
        "# importing required libraries\n",
        "import pandas as pd\n",
        "from xgboost import XGBClassifier\n",
        "from sklearn.metrics import accuracy_score\n",
        "from sklearn.metrics import classification_report\n",
        "from sklearn import model_selection, preprocessing, linear_model, naive_bayes, metrics, svm\n",
        "from sklearn.feature_extraction.text import TfidfVectorizer, CountVectorizer\n",
        "from sklearn import decomposition, ensemble"
      ],
      "execution_count": 18,
      "outputs": []
    },
    {
      "cell_type": "code",
      "metadata": {
        "id": "Y9A45Ntcyi5M",
        "colab_type": "code",
        "colab": {}
      },
      "source": [
        "train_data= pd.read_csv('/content/drive/My Drive/Hate Speech/german_dataset/german_dataset.tsv', sep = '\\t', encoding=\"latin-1\")  #Load train data\n",
        "test_data = pd.read_csv('/content/drive/My Drive/Hate Speech/german_dataset/hasoc_de_test_gold.tsv', sep = '\\t', encoding=\"latin-1\") #load test data"
      ],
      "execution_count": 19,
      "outputs": []
    },
    {
      "cell_type": "code",
      "metadata": {
        "id": "fE1_JppeypLz",
        "colab_type": "code",
        "colab": {
          "base_uri": "https://localhost:8080/",
          "height": 50
        },
        "outputId": "78099265-5e28-4cec-fe3c-2a039c0b1c83"
      },
      "source": [
        "print('Shape of training data :',train_data.shape)\n",
        "print('Shape of testing data :',test_data.shape)"
      ],
      "execution_count": 20,
      "outputs": [
        {
          "output_type": "stream",
          "text": [
            "Shape of training data : (3819, 4)\n",
            "Shape of testing data : (850, 4)\n"
          ],
          "name": "stdout"
        }
      ]
    },
    {
      "cell_type": "code",
      "metadata": {
        "id": "8zJKGuVKyvvs",
        "colab_type": "code",
        "colab": {}
      },
      "source": [
        "train_x = train_data['text']\n",
        "train_y = train_data['task_1']"
      ],
      "execution_count": 21,
      "outputs": []
    },
    {
      "cell_type": "code",
      "metadata": {
        "id": "eevgeLQYy7CD",
        "colab_type": "code",
        "colab": {}
      },
      "source": [
        "test_x = test_data['text']\n",
        "test_y = test_data['task_1']"
      ],
      "execution_count": 22,
      "outputs": []
    },
    {
      "cell_type": "code",
      "metadata": {
        "id": "-3XkS-i7zGQ0",
        "colab_type": "code",
        "colab": {}
      },
      "source": [
        "model = XGBClassifier() #for count vectorization\n",
        "model1= XGBClassifier() #for tfidf"
      ],
      "execution_count": 23,
      "outputs": []
    },
    {
      "cell_type": "code",
      "metadata": {
        "id": "CVK8OVxozsXa",
        "colab_type": "code",
        "colab": {}
      },
      "source": [
        "count_vect = CountVectorizer(analyzer='word', token_pattern=r'\\w{1,}')  #count vectorization\n",
        "count_vect.fit(train_data['text'])      \n",
        "\n",
        "x_train_count =  count_vect.transform(train_x)\n",
        "x_test_count =  count_vect.transform(test_x)"
      ],
      "execution_count": 24,
      "outputs": []
    },
    {
      "cell_type": "code",
      "metadata": {
        "id": "wPTdCeZn2hyV",
        "colab_type": "code",
        "colab": {}
      },
      "source": [
        "tfidf_vect= TfidfVectorizer(analyzer='word', token_pattern=r'\\w{1,}')      #tfidf\n",
        "tfidf_vect.fit(train_data['text'])\n",
        "\n",
        "x_train_tfidf =  tfidf_vect.transform(train_x)\n",
        "x_test_tfidf =  tfidf_vect.transform(test_x)"
      ],
      "execution_count": 25,
      "outputs": []
    },
    {
      "cell_type": "code",
      "metadata": {
        "id": "eBtCYOou1HHk",
        "colab_type": "code",
        "colab": {}
      },
      "source": [
        "encoder = preprocessing.LabelEncoder()    #encoding y\n",
        "train_y = encoder.fit_transform(train_y)\n",
        "test_y = encoder.fit_transform(test_y)"
      ],
      "execution_count": 26,
      "outputs": []
    },
    {
      "cell_type": "code",
      "metadata": {
        "id": "rND_8AZJzJIU",
        "colab_type": "code",
        "colab": {
          "base_uri": "https://localhost:8080/",
          "height": 134
        },
        "outputId": "9446f7ed-ef6b-4aa2-9727-98548db49810"
      },
      "source": [
        "model.fit(x_train_count.tocsc(),train_y)  #count vectorization training"
      ],
      "execution_count": 27,
      "outputs": [
        {
          "output_type": "execute_result",
          "data": {
            "text/plain": [
              "XGBClassifier(base_score=0.5, booster='gbtree', colsample_bylevel=1,\n",
              "              colsample_bynode=1, colsample_bytree=1, gamma=0,\n",
              "              learning_rate=0.1, max_delta_step=0, max_depth=3,\n",
              "              min_child_weight=1, missing=None, n_estimators=100, n_jobs=1,\n",
              "              nthread=None, objective='binary:logistic', random_state=0,\n",
              "              reg_alpha=0, reg_lambda=1, scale_pos_weight=1, seed=None,\n",
              "              silent=None, subsample=1, verbosity=1)"
            ]
          },
          "metadata": {
            "tags": []
          },
          "execution_count": 27
        }
      ]
    },
    {
      "cell_type": "code",
      "metadata": {
        "id": "v4PzPje43LnV",
        "colab_type": "code",
        "colab": {
          "base_uri": "https://localhost:8080/",
          "height": 134
        },
        "outputId": "7ac3a57d-c4e7-4186-bee4-c80261613e08"
      },
      "source": [
        "model1.fit(x_train_tfidf.tocsc(),train_y)   #tfidf training"
      ],
      "execution_count": 28,
      "outputs": [
        {
          "output_type": "execute_result",
          "data": {
            "text/plain": [
              "XGBClassifier(base_score=0.5, booster='gbtree', colsample_bylevel=1,\n",
              "              colsample_bynode=1, colsample_bytree=1, gamma=0,\n",
              "              learning_rate=0.1, max_delta_step=0, max_depth=3,\n",
              "              min_child_weight=1, missing=None, n_estimators=100, n_jobs=1,\n",
              "              nthread=None, objective='binary:logistic', random_state=0,\n",
              "              reg_alpha=0, reg_lambda=1, scale_pos_weight=1, seed=None,\n",
              "              silent=None, subsample=1, verbosity=1)"
            ]
          },
          "metadata": {
            "tags": []
          },
          "execution_count": 28
        }
      ]
    },
    {
      "cell_type": "code",
      "metadata": {
        "id": "66vqMkYJzLxO",
        "colab_type": "code",
        "colab": {}
      },
      "source": [
        "y_pred_count=model.predict(x_test_count.tocsc())  #tocsc convert it to sparse matrix"
      ],
      "execution_count": 29,
      "outputs": []
    },
    {
      "cell_type": "code",
      "metadata": {
        "id": "S9UDXHPg3pz-",
        "colab_type": "code",
        "colab": {}
      },
      "source": [
        "y_pred_tfidf=model.predict(x_test_tfidf.tocsc())"
      ],
      "execution_count": 30,
      "outputs": []
    },
    {
      "cell_type": "code",
      "metadata": {
        "id": "UPttSFnL13sq",
        "colab_type": "code",
        "colab": {
          "base_uri": "https://localhost:8080/",
          "height": 255
        },
        "outputId": "a6e28f16-895f-408d-a7e0-6b3fb8040f45"
      },
      "source": [
        "print('Model = Xgboost for Count Vectorization\\n')\n",
        "print(classification_report(y_pred_count, test_y))"
      ],
      "execution_count": 31,
      "outputs": [
        {
          "output_type": "stream",
          "text": [
            "Model = Xgboost for Count Vectorization\n",
            "\n",
            "              precision    recall  f1-score   support\n",
            "\n",
            "           0       0.00      0.00      0.00         0\n",
            "           1       1.00      0.84      0.91       850\n",
            "\n",
            "    accuracy                           0.84       850\n",
            "   macro avg       0.50      0.42      0.46       850\n",
            "weighted avg       1.00      0.84      0.91       850\n",
            "\n"
          ],
          "name": "stdout"
        },
        {
          "output_type": "stream",
          "text": [
            "/usr/local/lib/python3.6/dist-packages/sklearn/metrics/_classification.py:1272: UndefinedMetricWarning: Recall and F-score are ill-defined and being set to 0.0 in labels with no true samples. Use `zero_division` parameter to control this behavior.\n",
            "  _warn_prf(average, modifier, msg_start, len(result))\n"
          ],
          "name": "stderr"
        }
      ]
    },
    {
      "cell_type": "code",
      "metadata": {
        "id": "REFsYrIc36VK",
        "colab_type": "code",
        "colab": {
          "base_uri": "https://localhost:8080/",
          "height": 255
        },
        "outputId": "07ca6580-57d9-4e03-e180-8d375b8247a3"
      },
      "source": [
        "print('Model = Xgboost for Tfidf\\n')\n",
        "print(classification_report(y_pred_tfidf, test_y))"
      ],
      "execution_count": 32,
      "outputs": [
        {
          "output_type": "stream",
          "text": [
            "Model = Xgboost for Tfidf\n",
            "\n",
            "              precision    recall  f1-score   support\n",
            "\n",
            "           0       0.00      0.00      0.00         0\n",
            "           1       1.00      0.84      0.91       850\n",
            "\n",
            "    accuracy                           0.84       850\n",
            "   macro avg       0.50      0.42      0.46       850\n",
            "weighted avg       1.00      0.84      0.91       850\n",
            "\n"
          ],
          "name": "stdout"
        },
        {
          "output_type": "stream",
          "text": [
            "/usr/local/lib/python3.6/dist-packages/sklearn/metrics/_classification.py:1272: UndefinedMetricWarning: Recall and F-score are ill-defined and being set to 0.0 in labels with no true samples. Use `zero_division` parameter to control this behavior.\n",
            "  _warn_prf(average, modifier, msg_start, len(result))\n"
          ],
          "name": "stderr"
        }
      ]
    },
    {
      "cell_type": "code",
      "metadata": {
        "id": "2eAM7L_v2Jua",
        "colab_type": "code",
        "colab": {}
      },
      "source": [
        ""
      ],
      "execution_count": 32,
      "outputs": []
    }
  ]
}