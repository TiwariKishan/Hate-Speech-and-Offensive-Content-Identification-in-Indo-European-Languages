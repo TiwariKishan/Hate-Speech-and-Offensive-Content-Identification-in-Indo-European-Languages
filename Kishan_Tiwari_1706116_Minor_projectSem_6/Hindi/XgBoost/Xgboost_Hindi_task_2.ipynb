{
  "nbformat": 4,
  "nbformat_minor": 0,
  "metadata": {
    "colab": {
      "name": "Xgboost_Hindi_task_2.ipynb",
      "provenance": []
    },
    "kernelspec": {
      "name": "python3",
      "display_name": "Python 3"
    }
  },
  "cells": [
    {
      "cell_type": "code",
      "metadata": {
        "id": "SrnIHGMfyLDs",
        "colab_type": "code",
        "colab": {
          "base_uri": "https://localhost:8080/",
          "height": 121
        },
        "outputId": "67836f61-1b50-4e99-dd71-ab0dfdd41d1f"
      },
      "source": [
        "from google.colab import drive\n",
        "drive.mount('/content/drive')"
      ],
      "execution_count": 1,
      "outputs": [
        {
          "output_type": "stream",
          "text": [
            "Go to this URL in a browser: https://accounts.google.com/o/oauth2/auth?client_id=947318989803-6bn6qk8qdgf4n4g3pfee6491hc0brc4i.apps.googleusercontent.com&redirect_uri=urn%3aietf%3awg%3aoauth%3a2.0%3aoob&response_type=code&scope=email%20https%3a%2f%2fwww.googleapis.com%2fauth%2fdocs.test%20https%3a%2f%2fwww.googleapis.com%2fauth%2fdrive%20https%3a%2f%2fwww.googleapis.com%2fauth%2fdrive.photos.readonly%20https%3a%2f%2fwww.googleapis.com%2fauth%2fpeopleapi.readonly\n",
            "\n",
            "Enter your authorization code:\n",
            "··········\n",
            "Mounted at /content/drive\n"
          ],
          "name": "stdout"
        }
      ]
    },
    {
      "cell_type": "code",
      "metadata": {
        "id": "F8bwH5T0yQv_",
        "colab_type": "code",
        "colab": {}
      },
      "source": [
        "# importing required libraries\n",
        "import pandas as pd\n",
        "from xgboost import XGBClassifier\n",
        "from sklearn.metrics import accuracy_score\n",
        "from sklearn.metrics import classification_report\n",
        "from sklearn import model_selection, preprocessing, linear_model, naive_bayes, metrics, svm\n",
        "from sklearn.feature_extraction.text import TfidfVectorizer, CountVectorizer\n",
        "from sklearn import decomposition, ensemble"
      ],
      "execution_count": 2,
      "outputs": []
    },
    {
      "cell_type": "code",
      "metadata": {
        "id": "Y9A45Ntcyi5M",
        "colab_type": "code",
        "colab": {}
      },
      "source": [
        "train_data= pd.read_csv('/content/drive/My Drive/Hate Speech/hindi_dataset.tsv', sep = '\\t', encoding=\"latin-1\")  #Load train data\n",
        "test_data = pd.read_csv('/content/drive/My Drive/Hate Speech/hasoc2019_hi_test_gold_2919.tsv', sep = '\\t', encoding=\"latin-1\") #load test data"
      ],
      "execution_count": 3,
      "outputs": []
    },
    {
      "cell_type": "code",
      "metadata": {
        "id": "XitO7WDprC18",
        "colab_type": "code",
        "colab": {}
      },
      "source": [
        "train_data=train_data[train_data.task_2!=\"NONE\"]       #drop none\n",
        "test_data=test_data[test_data.task_2!=\"NONE\"]"
      ],
      "execution_count": 4,
      "outputs": []
    },
    {
      "cell_type": "code",
      "metadata": {
        "id": "fE1_JppeypLz",
        "colab_type": "code",
        "colab": {
          "base_uri": "https://localhost:8080/",
          "height": 50
        },
        "outputId": "c1bc9fc0-dd7e-453d-c78a-c562602df3ad"
      },
      "source": [
        "print('Shape of training data :',train_data.shape)\n",
        "print('Shape of testing data :',test_data.shape)"
      ],
      "execution_count": 5,
      "outputs": [
        {
          "output_type": "stream",
          "text": [
            "Shape of training data : (2469, 5)\n",
            "Shape of testing data : (605, 5)\n"
          ],
          "name": "stdout"
        }
      ]
    },
    {
      "cell_type": "code",
      "metadata": {
        "id": "8zJKGuVKyvvs",
        "colab_type": "code",
        "colab": {}
      },
      "source": [
        "train_x = train_data['text']\n",
        "train_y = train_data['task_2']"
      ],
      "execution_count": 6,
      "outputs": []
    },
    {
      "cell_type": "code",
      "metadata": {
        "id": "eevgeLQYy7CD",
        "colab_type": "code",
        "colab": {}
      },
      "source": [
        "test_x = test_data['text']\n",
        "test_y = test_data['task_2']"
      ],
      "execution_count": 7,
      "outputs": []
    },
    {
      "cell_type": "code",
      "metadata": {
        "id": "-3XkS-i7zGQ0",
        "colab_type": "code",
        "colab": {}
      },
      "source": [
        "model = XGBClassifier() #for count vectorization\n",
        "model1= XGBClassifier() #for tfidf"
      ],
      "execution_count": 8,
      "outputs": []
    },
    {
      "cell_type": "code",
      "metadata": {
        "id": "CVK8OVxozsXa",
        "colab_type": "code",
        "colab": {}
      },
      "source": [
        "count_vect = CountVectorizer(analyzer='word', token_pattern=r'\\w{1,}')  #count vectorization\n",
        "count_vect.fit(train_data['text'])      \n",
        "\n",
        "x_train_count =  count_vect.transform(train_x)\n",
        "x_test_count =  count_vect.transform(test_x)"
      ],
      "execution_count": 9,
      "outputs": []
    },
    {
      "cell_type": "code",
      "metadata": {
        "id": "wPTdCeZn2hyV",
        "colab_type": "code",
        "colab": {}
      },
      "source": [
        "tfidf_vect= TfidfVectorizer(analyzer='word', token_pattern=r'\\w{1,}')      #tfidf\n",
        "tfidf_vect.fit(train_data['text'])\n",
        "\n",
        "x_train_tfidf =  tfidf_vect.transform(train_x)\n",
        "x_test_tfidf =  tfidf_vect.transform(test_x)"
      ],
      "execution_count": 10,
      "outputs": []
    },
    {
      "cell_type": "code",
      "metadata": {
        "id": "eBtCYOou1HHk",
        "colab_type": "code",
        "colab": {}
      },
      "source": [
        "encoder = preprocessing.LabelEncoder()    #encoding y\n",
        "train_y = encoder.fit_transform(train_y)\n",
        "test_y = encoder.fit_transform(test_y)"
      ],
      "execution_count": 11,
      "outputs": []
    },
    {
      "cell_type": "code",
      "metadata": {
        "id": "rND_8AZJzJIU",
        "colab_type": "code",
        "colab": {
          "base_uri": "https://localhost:8080/",
          "height": 134
        },
        "outputId": "e5ffb4c6-e5db-4766-a060-02eb728d6410"
      },
      "source": [
        "model.fit(x_train_count.tocsc(),train_y)  #count vectorization training"
      ],
      "execution_count": 12,
      "outputs": [
        {
          "output_type": "execute_result",
          "data": {
            "text/plain": [
              "XGBClassifier(base_score=0.5, booster='gbtree', colsample_bylevel=1,\n",
              "              colsample_bynode=1, colsample_bytree=1, gamma=0,\n",
              "              learning_rate=0.1, max_delta_step=0, max_depth=3,\n",
              "              min_child_weight=1, missing=None, n_estimators=100, n_jobs=1,\n",
              "              nthread=None, objective='multi:softprob', random_state=0,\n",
              "              reg_alpha=0, reg_lambda=1, scale_pos_weight=1, seed=None,\n",
              "              silent=None, subsample=1, verbosity=1)"
            ]
          },
          "metadata": {
            "tags": []
          },
          "execution_count": 12
        }
      ]
    },
    {
      "cell_type": "code",
      "metadata": {
        "id": "v4PzPje43LnV",
        "colab_type": "code",
        "colab": {
          "base_uri": "https://localhost:8080/",
          "height": 134
        },
        "outputId": "30e71bb3-7d6d-498d-bae3-1d4b149be418"
      },
      "source": [
        "model1.fit(x_train_tfidf.tocsc(),train_y)   #tfidf training"
      ],
      "execution_count": 13,
      "outputs": [
        {
          "output_type": "execute_result",
          "data": {
            "text/plain": [
              "XGBClassifier(base_score=0.5, booster='gbtree', colsample_bylevel=1,\n",
              "              colsample_bynode=1, colsample_bytree=1, gamma=0,\n",
              "              learning_rate=0.1, max_delta_step=0, max_depth=3,\n",
              "              min_child_weight=1, missing=None, n_estimators=100, n_jobs=1,\n",
              "              nthread=None, objective='multi:softprob', random_state=0,\n",
              "              reg_alpha=0, reg_lambda=1, scale_pos_weight=1, seed=None,\n",
              "              silent=None, subsample=1, verbosity=1)"
            ]
          },
          "metadata": {
            "tags": []
          },
          "execution_count": 13
        }
      ]
    },
    {
      "cell_type": "code",
      "metadata": {
        "id": "66vqMkYJzLxO",
        "colab_type": "code",
        "colab": {}
      },
      "source": [
        "y_pred_count=model.predict(x_test_count.tocsc())  #tocsc convert it to sparse matrix"
      ],
      "execution_count": 14,
      "outputs": []
    },
    {
      "cell_type": "code",
      "metadata": {
        "id": "S9UDXHPg3pz-",
        "colab_type": "code",
        "colab": {}
      },
      "source": [
        "y_pred_tfidf=model.predict(x_test_tfidf.tocsc())"
      ],
      "execution_count": 15,
      "outputs": []
    },
    {
      "cell_type": "code",
      "metadata": {
        "id": "UPttSFnL13sq",
        "colab_type": "code",
        "colab": {
          "base_uri": "https://localhost:8080/",
          "height": 218
        },
        "outputId": "6794816c-4d5f-4d20-beee-6f0dbb7b907b"
      },
      "source": [
        "print('Model = Xgboost for Count Vectorization\\n')\n",
        "print(classification_report(y_pred_count, test_y))"
      ],
      "execution_count": 16,
      "outputs": [
        {
          "output_type": "stream",
          "text": [
            "Model = Xgboost for Count Vectorization\n",
            "\n",
            "              precision    recall  f1-score   support\n",
            "\n",
            "           0       0.18      0.42      0.26        84\n",
            "           1       0.11      0.44      0.18        50\n",
            "           2       0.88      0.41      0.56       471\n",
            "\n",
            "    accuracy                           0.41       605\n",
            "   macro avg       0.39      0.42      0.33       605\n",
            "weighted avg       0.72      0.41      0.48       605\n",
            "\n"
          ],
          "name": "stdout"
        }
      ]
    },
    {
      "cell_type": "code",
      "metadata": {
        "id": "REFsYrIc36VK",
        "colab_type": "code",
        "colab": {
          "base_uri": "https://localhost:8080/",
          "height": 218
        },
        "outputId": "2aaf3255-42c0-4deb-c86f-73a3db053c79"
      },
      "source": [
        "print('Model = Xgboost for Tfidf\\n')\n",
        "print(classification_report(y_pred_tfidf, test_y))"
      ],
      "execution_count": 17,
      "outputs": [
        {
          "output_type": "stream",
          "text": [
            "Model = Xgboost for Tfidf\n",
            "\n",
            "              precision    recall  f1-score   support\n",
            "\n",
            "           0       0.03      0.38      0.06        16\n",
            "           1       0.01      0.67      0.02         3\n",
            "           2       0.99      0.37      0.53       586\n",
            "\n",
            "    accuracy                           0.37       605\n",
            "   macro avg       0.34      0.47      0.20       605\n",
            "weighted avg       0.96      0.37      0.52       605\n",
            "\n"
          ],
          "name": "stdout"
        }
      ]
    },
    {
      "cell_type": "code",
      "metadata": {
        "id": "2eAM7L_v2Jua",
        "colab_type": "code",
        "colab": {}
      },
      "source": [
        ""
      ],
      "execution_count": 17,
      "outputs": []
    }
  ]
}