{
  "nbformat": 4,
  "nbformat_minor": 0,
  "metadata": {
    "colab": {
      "name": "Xgboost_Hindi_task_3.ipynb",
      "provenance": []
    },
    "kernelspec": {
      "name": "python3",
      "display_name": "Python 3"
    }
  },
  "cells": [
    {
      "cell_type": "code",
      "metadata": {
        "id": "-p6fapPVr_OM",
        "colab_type": "code",
        "colab": {}
      },
      "source": [
        ""
      ],
      "execution_count": 17,
      "outputs": []
    },
    {
      "cell_type": "code",
      "metadata": {
        "id": "SrnIHGMfyLDs",
        "colab_type": "code",
        "colab": {
          "base_uri": "https://localhost:8080/",
          "height": 34
        },
        "outputId": "5fb38dee-f9d3-4ba4-fc3c-d73ed158d469"
      },
      "source": [
        "from google.colab import drive\n",
        "drive.mount('/content/drive')"
      ],
      "execution_count": 18,
      "outputs": [
        {
          "output_type": "stream",
          "text": [
            "Drive already mounted at /content/drive; to attempt to forcibly remount, call drive.mount(\"/content/drive\", force_remount=True).\n"
          ],
          "name": "stdout"
        }
      ]
    },
    {
      "cell_type": "code",
      "metadata": {
        "id": "F8bwH5T0yQv_",
        "colab_type": "code",
        "colab": {}
      },
      "source": [
        "# importing required libraries\n",
        "import pandas as pd\n",
        "from xgboost import XGBClassifier\n",
        "from sklearn.metrics import accuracy_score\n",
        "from sklearn.metrics import classification_report\n",
        "from sklearn import model_selection, preprocessing, linear_model, naive_bayes, metrics, svm\n",
        "from sklearn.feature_extraction.text import TfidfVectorizer, CountVectorizer\n",
        "from sklearn import decomposition, ensemble"
      ],
      "execution_count": 19,
      "outputs": []
    },
    {
      "cell_type": "code",
      "metadata": {
        "id": "Y9A45Ntcyi5M",
        "colab_type": "code",
        "colab": {}
      },
      "source": [
        "train_data= pd.read_csv('/content/drive/My Drive/Hate Speech/hindi_dataset.tsv', sep = '\\t', encoding=\"latin-1\")  #Load train data\n",
        "test_data = pd.read_csv('/content/drive/My Drive/Hate Speech/hasoc2019_hi_test_gold_2919.tsv', sep = '\\t', encoding=\"latin-1\") #load test data"
      ],
      "execution_count": 20,
      "outputs": []
    },
    {
      "cell_type": "code",
      "metadata": {
        "id": "XitO7WDprC18",
        "colab_type": "code",
        "colab": {}
      },
      "source": [
        "train_data=train_data[train_data.task_3!=\"NONE\"]       #drop none\n",
        "test_data=test_data[test_data.task_3!=\"NONE\"]"
      ],
      "execution_count": 21,
      "outputs": []
    },
    {
      "cell_type": "code",
      "metadata": {
        "id": "fE1_JppeypLz",
        "colab_type": "code",
        "colab": {
          "base_uri": "https://localhost:8080/",
          "height": 50
        },
        "outputId": "a26a9a6e-501a-49f4-d86a-45e988f77235"
      },
      "source": [
        "print('Shape of training data :',train_data.shape)\n",
        "print('Shape of testing data :',test_data.shape)"
      ],
      "execution_count": 22,
      "outputs": [
        {
          "output_type": "stream",
          "text": [
            "Shape of training data : (2469, 5)\n",
            "Shape of testing data : (605, 5)\n"
          ],
          "name": "stdout"
        }
      ]
    },
    {
      "cell_type": "code",
      "metadata": {
        "id": "8zJKGuVKyvvs",
        "colab_type": "code",
        "colab": {}
      },
      "source": [
        "train_x = train_data['text']\n",
        "train_y = train_data['task_3']"
      ],
      "execution_count": 23,
      "outputs": []
    },
    {
      "cell_type": "code",
      "metadata": {
        "id": "eevgeLQYy7CD",
        "colab_type": "code",
        "colab": {}
      },
      "source": [
        "test_x = test_data['text']\n",
        "test_y = test_data['task_3']"
      ],
      "execution_count": 24,
      "outputs": []
    },
    {
      "cell_type": "code",
      "metadata": {
        "id": "-3XkS-i7zGQ0",
        "colab_type": "code",
        "colab": {}
      },
      "source": [
        "model = XGBClassifier() #for count vectorization\n",
        "model1= XGBClassifier() #for tfidf"
      ],
      "execution_count": 25,
      "outputs": []
    },
    {
      "cell_type": "code",
      "metadata": {
        "id": "CVK8OVxozsXa",
        "colab_type": "code",
        "colab": {}
      },
      "source": [
        "count_vect = CountVectorizer(analyzer='word', token_pattern=r'\\w{1,}')  #count vectorization\n",
        "count_vect.fit(train_data['text'])      \n",
        "\n",
        "x_train_count =  count_vect.transform(train_x)\n",
        "x_test_count =  count_vect.transform(test_x)"
      ],
      "execution_count": 26,
      "outputs": []
    },
    {
      "cell_type": "code",
      "metadata": {
        "id": "wPTdCeZn2hyV",
        "colab_type": "code",
        "colab": {}
      },
      "source": [
        "tfidf_vect= TfidfVectorizer(analyzer='word', token_pattern=r'\\w{1,}')      #tfidf\n",
        "tfidf_vect.fit(train_data['text'])\n",
        "\n",
        "x_train_tfidf =  tfidf_vect.transform(train_x)\n",
        "x_test_tfidf =  tfidf_vect.transform(test_x)"
      ],
      "execution_count": 27,
      "outputs": []
    },
    {
      "cell_type": "code",
      "metadata": {
        "id": "eBtCYOou1HHk",
        "colab_type": "code",
        "colab": {}
      },
      "source": [
        "encoder = preprocessing.LabelEncoder()    #encoding y\n",
        "train_y = encoder.fit_transform(train_y)\n",
        "test_y = encoder.fit_transform(test_y)"
      ],
      "execution_count": 28,
      "outputs": []
    },
    {
      "cell_type": "code",
      "metadata": {
        "id": "rND_8AZJzJIU",
        "colab_type": "code",
        "colab": {
          "base_uri": "https://localhost:8080/",
          "height": 134
        },
        "outputId": "fe9b9cfb-0b8c-4555-c864-a92f5d9123bd"
      },
      "source": [
        "model.fit(x_train_count.tocsc(),train_y)  #count vectorization training"
      ],
      "execution_count": 29,
      "outputs": [
        {
          "output_type": "execute_result",
          "data": {
            "text/plain": [
              "XGBClassifier(base_score=0.5, booster='gbtree', colsample_bylevel=1,\n",
              "              colsample_bynode=1, colsample_bytree=1, gamma=0,\n",
              "              learning_rate=0.1, max_delta_step=0, max_depth=3,\n",
              "              min_child_weight=1, missing=None, n_estimators=100, n_jobs=1,\n",
              "              nthread=None, objective='binary:logistic', random_state=0,\n",
              "              reg_alpha=0, reg_lambda=1, scale_pos_weight=1, seed=None,\n",
              "              silent=None, subsample=1, verbosity=1)"
            ]
          },
          "metadata": {
            "tags": []
          },
          "execution_count": 29
        }
      ]
    },
    {
      "cell_type": "code",
      "metadata": {
        "id": "v4PzPje43LnV",
        "colab_type": "code",
        "colab": {
          "base_uri": "https://localhost:8080/",
          "height": 134
        },
        "outputId": "9da6f5d5-3b63-45cc-e007-956d1a0c540a"
      },
      "source": [
        "model1.fit(x_train_tfidf.tocsc(),train_y)   #tfidf training"
      ],
      "execution_count": 30,
      "outputs": [
        {
          "output_type": "execute_result",
          "data": {
            "text/plain": [
              "XGBClassifier(base_score=0.5, booster='gbtree', colsample_bylevel=1,\n",
              "              colsample_bynode=1, colsample_bytree=1, gamma=0,\n",
              "              learning_rate=0.1, max_delta_step=0, max_depth=3,\n",
              "              min_child_weight=1, missing=None, n_estimators=100, n_jobs=1,\n",
              "              nthread=None, objective='binary:logistic', random_state=0,\n",
              "              reg_alpha=0, reg_lambda=1, scale_pos_weight=1, seed=None,\n",
              "              silent=None, subsample=1, verbosity=1)"
            ]
          },
          "metadata": {
            "tags": []
          },
          "execution_count": 30
        }
      ]
    },
    {
      "cell_type": "code",
      "metadata": {
        "id": "66vqMkYJzLxO",
        "colab_type": "code",
        "colab": {}
      },
      "source": [
        "y_pred_count=model.predict(x_test_count.tocsc())  #tocsc convert it to sparse matrix"
      ],
      "execution_count": 31,
      "outputs": []
    },
    {
      "cell_type": "code",
      "metadata": {
        "id": "S9UDXHPg3pz-",
        "colab_type": "code",
        "colab": {}
      },
      "source": [
        "y_pred_tfidf=model.predict(x_test_tfidf.tocsc())"
      ],
      "execution_count": 32,
      "outputs": []
    },
    {
      "cell_type": "code",
      "metadata": {
        "id": "UPttSFnL13sq",
        "colab_type": "code",
        "colab": {
          "base_uri": "https://localhost:8080/",
          "height": 202
        },
        "outputId": "ec469743-6245-4afb-ce4d-70638888af57"
      },
      "source": [
        "print('Model = Xgboost for Count Vectorization\\n')\n",
        "print(classification_report(y_pred_count, test_y))"
      ],
      "execution_count": 33,
      "outputs": [
        {
          "output_type": "stream",
          "text": [
            "Model = Xgboost for Count Vectorization\n",
            "\n",
            "              precision    recall  f1-score   support\n",
            "\n",
            "           0       0.99      0.90      0.95       596\n",
            "           1       0.08      0.56      0.14         9\n",
            "\n",
            "    accuracy                           0.90       605\n",
            "   macro avg       0.54      0.73      0.54       605\n",
            "weighted avg       0.98      0.90      0.93       605\n",
            "\n"
          ],
          "name": "stdout"
        }
      ]
    },
    {
      "cell_type": "code",
      "metadata": {
        "id": "REFsYrIc36VK",
        "colab_type": "code",
        "colab": {
          "base_uri": "https://localhost:8080/",
          "height": 202
        },
        "outputId": "a311f723-b59e-4c2a-88e0-d384dec7184b"
      },
      "source": [
        "print('Model = Xgboost for Tfidf\\n')\n",
        "print(classification_report(y_pred_tfidf, test_y))"
      ],
      "execution_count": 34,
      "outputs": [
        {
          "output_type": "stream",
          "text": [
            "Model = Xgboost for Tfidf\n",
            "\n",
            "              precision    recall  f1-score   support\n",
            "\n",
            "           0       0.91      0.90      0.91       549\n",
            "           1       0.14      0.16      0.15        56\n",
            "\n",
            "    accuracy                           0.83       605\n",
            "   macro avg       0.53      0.53      0.53       605\n",
            "weighted avg       0.84      0.83      0.84       605\n",
            "\n"
          ],
          "name": "stdout"
        }
      ]
    },
    {
      "cell_type": "code",
      "metadata": {
        "id": "2eAM7L_v2Jua",
        "colab_type": "code",
        "colab": {}
      },
      "source": [
        ""
      ],
      "execution_count": 34,
      "outputs": []
    }
  ]
}