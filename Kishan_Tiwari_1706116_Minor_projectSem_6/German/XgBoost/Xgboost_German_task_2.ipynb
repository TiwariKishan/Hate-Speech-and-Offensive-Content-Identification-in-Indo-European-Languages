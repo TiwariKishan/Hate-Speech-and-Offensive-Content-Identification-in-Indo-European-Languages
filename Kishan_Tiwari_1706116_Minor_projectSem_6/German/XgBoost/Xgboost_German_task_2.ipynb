{
  "nbformat": 4,
  "nbformat_minor": 0,
  "metadata": {
    "colab": {
      "name": "Xgboost_German_task_2.ipynb",
      "provenance": []
    },
    "kernelspec": {
      "name": "python3",
      "display_name": "Python 3"
    }
  },
  "cells": [
    {
      "cell_type": "code",
      "metadata": {
        "id": "SrnIHGMfyLDs",
        "colab_type": "code",
        "colab": {
          "base_uri": "https://localhost:8080/",
          "height": 34
        },
        "outputId": "345a409d-bbed-491d-d4e7-9cc2488abb2c"
      },
      "source": [
        "from google.colab import drive\n",
        "drive.mount('/content/drive')"
      ],
      "execution_count": 18,
      "outputs": [
        {
          "output_type": "stream",
          "text": [
            "Drive already mounted at /content/drive; to attempt to forcibly remount, call drive.mount(\"/content/drive\", force_remount=True).\n"
          ],
          "name": "stdout"
        }
      ]
    },
    {
      "cell_type": "code",
      "metadata": {
        "id": "F8bwH5T0yQv_",
        "colab_type": "code",
        "colab": {}
      },
      "source": [
        "# importing required libraries\n",
        "import pandas as pd\n",
        "from xgboost import XGBClassifier\n",
        "from sklearn.metrics import accuracy_score\n",
        "from sklearn.metrics import classification_report\n",
        "from sklearn import model_selection, preprocessing, linear_model, naive_bayes, metrics, svm\n",
        "from sklearn.feature_extraction.text import TfidfVectorizer, CountVectorizer\n",
        "from sklearn import decomposition, ensemble"
      ],
      "execution_count": 19,
      "outputs": []
    },
    {
      "cell_type": "code",
      "metadata": {
        "id": "Y9A45Ntcyi5M",
        "colab_type": "code",
        "colab": {}
      },
      "source": [
        "train_data= pd.read_csv('/content/drive/My Drive/Hate Speech/german_dataset/german_dataset.tsv', sep = '\\t', encoding=\"latin-1\")  #Load train data\n",
        "test_data = pd.read_csv('/content/drive/My Drive/Hate Speech/german_dataset/hasoc_de_test_gold.tsv', sep = '\\t', encoding=\"latin-1\") #load test data"
      ],
      "execution_count": 20,
      "outputs": []
    },
    {
      "cell_type": "code",
      "metadata": {
        "id": "XitO7WDprC18",
        "colab_type": "code",
        "colab": {}
      },
      "source": [
        "train_data=train_data[train_data.task_2!=\"NONE\"]       #drop none\n",
        "test_data=test_data[test_data.task_2!=\"NONE\"]"
      ],
      "execution_count": 21,
      "outputs": []
    },
    {
      "cell_type": "code",
      "metadata": {
        "id": "fE1_JppeypLz",
        "colab_type": "code",
        "colab": {
          "base_uri": "https://localhost:8080/",
          "height": 50
        },
        "outputId": "086c9c81-e511-4881-d109-2b5feb2f9ed3"
      },
      "source": [
        "print('Shape of training data :',train_data.shape)\n",
        "print('Shape of testing data :',test_data.shape)"
      ],
      "execution_count": 22,
      "outputs": [
        {
          "output_type": "stream",
          "text": [
            "Shape of training data : (407, 4)\n",
            "Shape of testing data : (136, 4)\n"
          ],
          "name": "stdout"
        }
      ]
    },
    {
      "cell_type": "code",
      "metadata": {
        "id": "8zJKGuVKyvvs",
        "colab_type": "code",
        "colab": {}
      },
      "source": [
        "train_x = train_data['text']\n",
        "train_y = train_data['task_2']"
      ],
      "execution_count": 23,
      "outputs": []
    },
    {
      "cell_type": "code",
      "metadata": {
        "id": "eevgeLQYy7CD",
        "colab_type": "code",
        "colab": {}
      },
      "source": [
        "test_x = test_data['text']\n",
        "test_y = test_data['task_2']"
      ],
      "execution_count": 24,
      "outputs": []
    },
    {
      "cell_type": "code",
      "metadata": {
        "id": "-3XkS-i7zGQ0",
        "colab_type": "code",
        "colab": {}
      },
      "source": [
        "model = XGBClassifier() #for count vectorization\n",
        "model1= XGBClassifier() #for tfidf"
      ],
      "execution_count": 25,
      "outputs": []
    },
    {
      "cell_type": "code",
      "metadata": {
        "id": "CVK8OVxozsXa",
        "colab_type": "code",
        "colab": {}
      },
      "source": [
        "count_vect = CountVectorizer(analyzer='word', token_pattern=r'\\w{1,}')  #count vectorization\n",
        "count_vect.fit(train_data['text'])      \n",
        "\n",
        "x_train_count =  count_vect.transform(train_x)\n",
        "x_test_count =  count_vect.transform(test_x)"
      ],
      "execution_count": 26,
      "outputs": []
    },
    {
      "cell_type": "code",
      "metadata": {
        "id": "wPTdCeZn2hyV",
        "colab_type": "code",
        "colab": {}
      },
      "source": [
        "tfidf_vect= TfidfVectorizer(analyzer='word', token_pattern=r'\\w{1,}')      #tfidf\n",
        "tfidf_vect.fit(train_data['text'])\n",
        "\n",
        "x_train_tfidf =  tfidf_vect.transform(train_x)\n",
        "x_test_tfidf =  tfidf_vect.transform(test_x)"
      ],
      "execution_count": 27,
      "outputs": []
    },
    {
      "cell_type": "code",
      "metadata": {
        "id": "eBtCYOou1HHk",
        "colab_type": "code",
        "colab": {}
      },
      "source": [
        "encoder = preprocessing.LabelEncoder()    #encoding y\n",
        "train_y = encoder.fit_transform(train_y)\n",
        "test_y = encoder.fit_transform(test_y)"
      ],
      "execution_count": 28,
      "outputs": []
    },
    {
      "cell_type": "code",
      "metadata": {
        "id": "rND_8AZJzJIU",
        "colab_type": "code",
        "colab": {
          "base_uri": "https://localhost:8080/",
          "height": 134
        },
        "outputId": "7533f092-d369-428b-c77c-51ad2c78a56d"
      },
      "source": [
        "model.fit(x_train_count.tocsc(),train_y)  #count vectorization training"
      ],
      "execution_count": 29,
      "outputs": [
        {
          "output_type": "execute_result",
          "data": {
            "text/plain": [
              "XGBClassifier(base_score=0.5, booster='gbtree', colsample_bylevel=1,\n",
              "              colsample_bynode=1, colsample_bytree=1, gamma=0,\n",
              "              learning_rate=0.1, max_delta_step=0, max_depth=3,\n",
              "              min_child_weight=1, missing=None, n_estimators=100, n_jobs=1,\n",
              "              nthread=None, objective='multi:softprob', random_state=0,\n",
              "              reg_alpha=0, reg_lambda=1, scale_pos_weight=1, seed=None,\n",
              "              silent=None, subsample=1, verbosity=1)"
            ]
          },
          "metadata": {
            "tags": []
          },
          "execution_count": 29
        }
      ]
    },
    {
      "cell_type": "code",
      "metadata": {
        "id": "v4PzPje43LnV",
        "colab_type": "code",
        "colab": {
          "base_uri": "https://localhost:8080/",
          "height": 134
        },
        "outputId": "93d012ad-2699-495d-8c6f-16bf4c7affb6"
      },
      "source": [
        "model1.fit(x_train_tfidf.tocsc(),train_y)   #tfidf training"
      ],
      "execution_count": 30,
      "outputs": [
        {
          "output_type": "execute_result",
          "data": {
            "text/plain": [
              "XGBClassifier(base_score=0.5, booster='gbtree', colsample_bylevel=1,\n",
              "              colsample_bynode=1, colsample_bytree=1, gamma=0,\n",
              "              learning_rate=0.1, max_delta_step=0, max_depth=3,\n",
              "              min_child_weight=1, missing=None, n_estimators=100, n_jobs=1,\n",
              "              nthread=None, objective='multi:softprob', random_state=0,\n",
              "              reg_alpha=0, reg_lambda=1, scale_pos_weight=1, seed=None,\n",
              "              silent=None, subsample=1, verbosity=1)"
            ]
          },
          "metadata": {
            "tags": []
          },
          "execution_count": 30
        }
      ]
    },
    {
      "cell_type": "code",
      "metadata": {
        "id": "66vqMkYJzLxO",
        "colab_type": "code",
        "colab": {}
      },
      "source": [
        "y_pred_count=model.predict(x_test_count.tocsc())  #tocsc convert it to sparse matrix"
      ],
      "execution_count": 31,
      "outputs": []
    },
    {
      "cell_type": "code",
      "metadata": {
        "id": "S9UDXHPg3pz-",
        "colab_type": "code",
        "colab": {}
      },
      "source": [
        "y_pred_tfidf=model.predict(x_test_tfidf.tocsc())"
      ],
      "execution_count": 32,
      "outputs": []
    },
    {
      "cell_type": "code",
      "metadata": {
        "id": "UPttSFnL13sq",
        "colab_type": "code",
        "colab": {
          "base_uri": "https://localhost:8080/",
          "height": 218
        },
        "outputId": "13e0e75e-454e-4117-c102-c3ce1be892a2"
      },
      "source": [
        "print('Model = Xgboost for Count Vectorization\\n')\n",
        "print(classification_report(y_pred_count, test_y))"
      ],
      "execution_count": 33,
      "outputs": [
        {
          "output_type": "stream",
          "text": [
            "Model = Xgboost for Count Vectorization\n",
            "\n",
            "              precision    recall  f1-score   support\n",
            "\n",
            "           0       0.12      0.36      0.18        14\n",
            "           1       0.83      0.55      0.66       117\n",
            "           2       0.00      0.00      0.00         5\n",
            "\n",
            "    accuracy                           0.51       136\n",
            "   macro avg       0.32      0.30      0.28       136\n",
            "weighted avg       0.73      0.51      0.59       136\n",
            "\n"
          ],
          "name": "stdout"
        }
      ]
    },
    {
      "cell_type": "code",
      "metadata": {
        "id": "REFsYrIc36VK",
        "colab_type": "code",
        "colab": {
          "base_uri": "https://localhost:8080/",
          "height": 218
        },
        "outputId": "a8c6cf40-05c2-4ac5-c642-1457b59d326b"
      },
      "source": [
        "print('Model = Xgboost for Tfidf\\n')\n",
        "print(classification_report(y_pred_tfidf, test_y))"
      ],
      "execution_count": 34,
      "outputs": [
        {
          "output_type": "stream",
          "text": [
            "Model = Xgboost for Tfidf\n",
            "\n",
            "              precision    recall  f1-score   support\n",
            "\n",
            "           0       0.12      0.42      0.19        12\n",
            "           1       0.88      0.56      0.68       122\n",
            "           2       0.00      0.00      0.00         2\n",
            "\n",
            "    accuracy                           0.54       136\n",
            "   macro avg       0.34      0.32      0.29       136\n",
            "weighted avg       0.80      0.54      0.63       136\n",
            "\n"
          ],
          "name": "stdout"
        }
      ]
    },
    {
      "cell_type": "code",
      "metadata": {
        "id": "2eAM7L_v2Jua",
        "colab_type": "code",
        "colab": {}
      },
      "source": [
        ""
      ],
      "execution_count": 34,
      "outputs": []
    }
  ]
}