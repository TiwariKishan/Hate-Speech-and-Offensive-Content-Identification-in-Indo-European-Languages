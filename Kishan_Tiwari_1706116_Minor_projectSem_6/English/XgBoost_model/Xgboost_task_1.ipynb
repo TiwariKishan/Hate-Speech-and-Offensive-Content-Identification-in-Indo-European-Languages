{
  "nbformat": 4,
  "nbformat_minor": 0,
  "metadata": {
    "colab": {
      "name": "Xgboost_task_1.ipynb",
      "provenance": []
    },
    "kernelspec": {
      "name": "python3",
      "display_name": "Python 3"
    }
  },
  "cells": [
    {
      "cell_type": "code",
      "metadata": {
        "id": "SrnIHGMfyLDs",
        "colab_type": "code",
        "colab": {
          "base_uri": "https://localhost:8080/",
          "height": 121
        },
        "outputId": "7a801c48-9a11-4b7c-bb6e-cd72544f1445"
      },
      "source": [
        "from google.colab import drive\n",
        "drive.mount('/content/drive')"
      ],
      "execution_count": null,
      "outputs": [
        {
          "output_type": "stream",
          "text": [
            "Go to this URL in a browser: https://accounts.google.com/o/oauth2/auth?client_id=947318989803-6bn6qk8qdgf4n4g3pfee6491hc0brc4i.apps.googleusercontent.com&redirect_uri=urn%3aietf%3awg%3aoauth%3a2.0%3aoob&response_type=code&scope=email%20https%3a%2f%2fwww.googleapis.com%2fauth%2fdocs.test%20https%3a%2f%2fwww.googleapis.com%2fauth%2fdrive%20https%3a%2f%2fwww.googleapis.com%2fauth%2fdrive.photos.readonly%20https%3a%2f%2fwww.googleapis.com%2fauth%2fpeopleapi.readonly\n",
            "\n",
            "Enter your authorization code:\n",
            "··········\n",
            "Mounted at /content/drive\n"
          ],
          "name": "stdout"
        }
      ]
    },
    {
      "cell_type": "code",
      "metadata": {
        "id": "F8bwH5T0yQv_",
        "colab_type": "code",
        "colab": {}
      },
      "source": [
        "# importing required libraries\n",
        "import pandas as pd\n",
        "from xgboost import XGBClassifier\n",
        "from sklearn.metrics import accuracy_score\n",
        "from sklearn.metrics import classification_report\n",
        "from sklearn import model_selection, preprocessing, linear_model, naive_bayes, metrics, svm\n",
        "from sklearn.feature_extraction.text import TfidfVectorizer, CountVectorizer\n",
        "from sklearn import decomposition, ensemble"
      ],
      "execution_count": null,
      "outputs": []
    },
    {
      "cell_type": "code",
      "metadata": {
        "id": "Y9A45Ntcyi5M",
        "colab_type": "code",
        "colab": {}
      },
      "source": [
        "train_data= pd.read_csv('/content/drive/My Drive/Hate Speech/english_dataset.tsv', sep = '\\t', encoding=\"latin-1\")  #Load train data\n",
        "test_data = pd.read_csv('/content/drive/My Drive/Hate Speech/hasoc2019_en_test-2919.tsv', sep = '\\t', encoding=\"latin-1\") #load test data"
      ],
      "execution_count": null,
      "outputs": []
    },
    {
      "cell_type": "code",
      "metadata": {
        "id": "fE1_JppeypLz",
        "colab_type": "code",
        "colab": {
          "base_uri": "https://localhost:8080/",
          "height": 50
        },
        "outputId": "423f7b41-beca-49cc-95a4-3bfda0409526"
      },
      "source": [
        "print('Shape of training data :',train_data.shape)\n",
        "print('Shape of testing data :',test_data.shape)"
      ],
      "execution_count": null,
      "outputs": [
        {
          "output_type": "stream",
          "text": [
            "Shape of training data : (5852, 5)\n",
            "Shape of testing data : (1153, 5)\n"
          ],
          "name": "stdout"
        }
      ]
    },
    {
      "cell_type": "code",
      "metadata": {
        "id": "8zJKGuVKyvvs",
        "colab_type": "code",
        "colab": {}
      },
      "source": [
        "train_x = train_data['text']\n",
        "train_y = train_data['task_1']"
      ],
      "execution_count": null,
      "outputs": []
    },
    {
      "cell_type": "code",
      "metadata": {
        "id": "eevgeLQYy7CD",
        "colab_type": "code",
        "colab": {}
      },
      "source": [
        "test_x = test_data['text']\n",
        "test_y = test_data['task_1']"
      ],
      "execution_count": null,
      "outputs": []
    },
    {
      "cell_type": "code",
      "metadata": {
        "id": "-3XkS-i7zGQ0",
        "colab_type": "code",
        "colab": {}
      },
      "source": [
        "model = XGBClassifier() #for count vectorization\n",
        "model1= XGBClassifier() #for tfidf"
      ],
      "execution_count": null,
      "outputs": []
    },
    {
      "cell_type": "code",
      "metadata": {
        "id": "CVK8OVxozsXa",
        "colab_type": "code",
        "colab": {}
      },
      "source": [
        "count_vect = CountVectorizer(analyzer='word', token_pattern=r'\\w{1,}')  #count vectorization\n",
        "count_vect.fit(train_data['text'])      \n",
        "\n",
        "x_train_count =  count_vect.transform(train_x)\n",
        "x_test_count =  count_vect.transform(test_x)"
      ],
      "execution_count": null,
      "outputs": []
    },
    {
      "cell_type": "code",
      "metadata": {
        "id": "wPTdCeZn2hyV",
        "colab_type": "code",
        "colab": {}
      },
      "source": [
        "tfidf_vect= TfidfVectorizer(analyzer='word', token_pattern=r'\\w{1,}')      #tfidf\n",
        "tfidf_vect.fit(train_data['text'])\n",
        "\n",
        "x_train_tfidf =  tfidf_vect.transform(train_x)\n",
        "x_test_tfidf =  tfidf_vect.transform(test_x)"
      ],
      "execution_count": null,
      "outputs": []
    },
    {
      "cell_type": "code",
      "metadata": {
        "id": "eBtCYOou1HHk",
        "colab_type": "code",
        "colab": {}
      },
      "source": [
        "encoder = preprocessing.LabelEncoder()    #encoding y\n",
        "train_y = encoder.fit_transform(train_y)\n",
        "test_y = encoder.fit_transform(test_y)"
      ],
      "execution_count": null,
      "outputs": []
    },
    {
      "cell_type": "code",
      "metadata": {
        "id": "rND_8AZJzJIU",
        "colab_type": "code",
        "colab": {
          "base_uri": "https://localhost:8080/",
          "height": 134
        },
        "outputId": "a45a58d2-87ef-48b4-c6d3-3dca258da882"
      },
      "source": [
        "model.fit(x_train_count.tocsc(),train_y)  #count vectorization training"
      ],
      "execution_count": null,
      "outputs": [
        {
          "output_type": "execute_result",
          "data": {
            "text/plain": [
              "XGBClassifier(base_score=0.5, booster='gbtree', colsample_bylevel=1,\n",
              "              colsample_bynode=1, colsample_bytree=1, gamma=0,\n",
              "              learning_rate=0.1, max_delta_step=0, max_depth=3,\n",
              "              min_child_weight=1, missing=None, n_estimators=100, n_jobs=1,\n",
              "              nthread=None, objective='binary:logistic', random_state=0,\n",
              "              reg_alpha=0, reg_lambda=1, scale_pos_weight=1, seed=None,\n",
              "              silent=None, subsample=1, verbosity=1)"
            ]
          },
          "metadata": {
            "tags": []
          },
          "execution_count": 25
        }
      ]
    },
    {
      "cell_type": "code",
      "metadata": {
        "id": "v4PzPje43LnV",
        "colab_type": "code",
        "colab": {
          "base_uri": "https://localhost:8080/",
          "height": 134
        },
        "outputId": "aa303ad2-af42-4f27-d7cc-e6d11382a296"
      },
      "source": [
        "model1.fit(x_train_tfidf.tocsc(),train_y)   #tfidf training"
      ],
      "execution_count": null,
      "outputs": [
        {
          "output_type": "execute_result",
          "data": {
            "text/plain": [
              "XGBClassifier(base_score=0.5, booster='gbtree', colsample_bylevel=1,\n",
              "              colsample_bynode=1, colsample_bytree=1, gamma=0,\n",
              "              learning_rate=0.1, max_delta_step=0, max_depth=3,\n",
              "              min_child_weight=1, missing=None, n_estimators=100, n_jobs=1,\n",
              "              nthread=None, objective='binary:logistic', random_state=0,\n",
              "              reg_alpha=0, reg_lambda=1, scale_pos_weight=1, seed=None,\n",
              "              silent=None, subsample=1, verbosity=1)"
            ]
          },
          "metadata": {
            "tags": []
          },
          "execution_count": 23
        }
      ]
    },
    {
      "cell_type": "code",
      "metadata": {
        "id": "66vqMkYJzLxO",
        "colab_type": "code",
        "colab": {}
      },
      "source": [
        "y_pred_count=model.predict(x_test_count.tocsc())  #tocsc convert it to sparse matrix"
      ],
      "execution_count": null,
      "outputs": []
    },
    {
      "cell_type": "code",
      "metadata": {
        "id": "S9UDXHPg3pz-",
        "colab_type": "code",
        "colab": {}
      },
      "source": [
        "y_pred_tfidf=model.predict(x_test_tfidf.tocsc())"
      ],
      "execution_count": null,
      "outputs": []
    },
    {
      "cell_type": "code",
      "metadata": {
        "id": "UPttSFnL13sq",
        "colab_type": "code",
        "colab": {
          "base_uri": "https://localhost:8080/",
          "height": 202
        },
        "outputId": "fde8fb78-ed8a-4a8a-bcfc-45641def4627"
      },
      "source": [
        "print('Model = Xgboost for Count Vectorization\\n')\n",
        "print(classification_report(y_pred_count, test_y))"
      ],
      "execution_count": null,
      "outputs": [
        {
          "output_type": "stream",
          "text": [
            "Model = Xgboost for Count Vectorization\n",
            "\n",
            "              precision    recall  f1-score   support\n",
            "\n",
            "           0       0.44      0.74      0.55       171\n",
            "           1       0.95      0.84      0.89       982\n",
            "\n",
            "    accuracy                           0.82      1153\n",
            "   macro avg       0.69      0.79      0.72      1153\n",
            "weighted avg       0.87      0.82      0.84      1153\n",
            "\n"
          ],
          "name": "stdout"
        }
      ]
    },
    {
      "cell_type": "code",
      "metadata": {
        "id": "REFsYrIc36VK",
        "colab_type": "code",
        "colab": {
          "base_uri": "https://localhost:8080/",
          "height": 202
        },
        "outputId": "9716f476-a11e-4e67-8059-493a3fa88019"
      },
      "source": [
        "print('Model = Xgboost for Tfidf\\n')\n",
        "print(classification_report(y_pred_tfidf, test_y))"
      ],
      "execution_count": null,
      "outputs": [
        {
          "output_type": "stream",
          "text": [
            "Model = Xgboost for Tfidf\n",
            "\n",
            "              precision    recall  f1-score   support\n",
            "\n",
            "           0       0.39      0.81      0.53       139\n",
            "           1       0.97      0.83      0.89      1014\n",
            "\n",
            "    accuracy                           0.83      1153\n",
            "   macro avg       0.68      0.82      0.71      1153\n",
            "weighted avg       0.90      0.83      0.85      1153\n",
            "\n"
          ],
          "name": "stdout"
        }
      ]
    },
    {
      "cell_type": "code",
      "metadata": {
        "id": "2eAM7L_v2Jua",
        "colab_type": "code",
        "colab": {}
      },
      "source": [
        ""
      ],
      "execution_count": null,
      "outputs": []
    }
  ]
}